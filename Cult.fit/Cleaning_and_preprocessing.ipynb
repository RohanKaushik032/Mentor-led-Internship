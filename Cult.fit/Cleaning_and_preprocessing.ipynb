{
 "cells": [
  {
   "cell_type": "code",
   "execution_count": 6,
   "id": "3b8e3c94-0a97-4640-859f-3928b3f93fd5",
   "metadata": {},
   "outputs": [],
   "source": [
    "import numpy as np \n",
    "import pandas as pd \n",
    "import matplotlib.pyplot as plt \n",
    "import seaborn as sns "
   ]
  },
  {
   "cell_type": "code",
   "execution_count": 7,
   "id": "15b037b2-0703-4037-b00c-d74229ae0cba",
   "metadata": {},
   "outputs": [],
   "source": [
    "# loading the data_set\n",
    "df1 = pd.read_csv('Fitness Classes Data\\Classes April-May 2018.csv')\n",
    "df2 = pd.read_csv('Fitness Classes Data\\Classes June 2018.csv')"
   ]
  },
  {
   "cell_type": "code",
   "execution_count": 8,
   "id": "6f7abd6b-a68a-4056-8d07-cba609d9c849",
   "metadata": {},
   "outputs": [
    {
     "data": {
      "text/html": [
       "<div>\n",
       "<style scoped>\n",
       "    .dataframe tbody tr th:only-of-type {\n",
       "        vertical-align: middle;\n",
       "    }\n",
       "\n",
       "    .dataframe tbody tr th {\n",
       "        vertical-align: top;\n",
       "    }\n",
       "\n",
       "    .dataframe thead th {\n",
       "        text-align: right;\n",
       "    }\n",
       "</style>\n",
       "<table border=\"1\" class=\"dataframe\">\n",
       "  <thead>\n",
       "    <tr style=\"text-align: right;\">\n",
       "      <th></th>\n",
       "      <th>ActivitySiteID</th>\n",
       "      <th>ActivityDescription</th>\n",
       "      <th>BookingEndDateTime (Month / Day / Year)</th>\n",
       "      <th>BookingStartTime</th>\n",
       "      <th>MaxBookees</th>\n",
       "      <th>Number Booked</th>\n",
       "      <th>Price (INR)</th>\n",
       "    </tr>\n",
       "  </thead>\n",
       "  <tbody>\n",
       "    <tr>\n",
       "      <th>0</th>\n",
       "      <td>HXP</td>\n",
       "      <td>20-20-20  2.45pm-3.45pm</td>\n",
       "      <td>08-Apr-18</td>\n",
       "      <td>14:45:00</td>\n",
       "      <td>25</td>\n",
       "      <td>12</td>\n",
       "      <td>499.0</td>\n",
       "    </tr>\n",
       "    <tr>\n",
       "      <th>1</th>\n",
       "      <td>HXP</td>\n",
       "      <td>20-20-20  2.45pm-3.45pm</td>\n",
       "      <td>15-Apr-18</td>\n",
       "      <td>14:45:00</td>\n",
       "      <td>25</td>\n",
       "      <td>15</td>\n",
       "      <td>499.0</td>\n",
       "    </tr>\n",
       "    <tr>\n",
       "      <th>2</th>\n",
       "      <td>HXP</td>\n",
       "      <td>20-20-20  2.45pm-3.45pm</td>\n",
       "      <td>22-Apr-18</td>\n",
       "      <td>14:45:00</td>\n",
       "      <td>25</td>\n",
       "      <td>14</td>\n",
       "      <td>499.0</td>\n",
       "    </tr>\n",
       "    <tr>\n",
       "      <th>3</th>\n",
       "      <td>HXP</td>\n",
       "      <td>20-20-20  2.45pm-3.45pm</td>\n",
       "      <td>29-Apr-18</td>\n",
       "      <td>14:45:00</td>\n",
       "      <td>25</td>\n",
       "      <td>9</td>\n",
       "      <td>499.0</td>\n",
       "    </tr>\n",
       "    <tr>\n",
       "      <th>4</th>\n",
       "      <td>HXP</td>\n",
       "      <td>20-20-20  2.45pm-3.45pm</td>\n",
       "      <td>06-May-18</td>\n",
       "      <td>14:45:00</td>\n",
       "      <td>25</td>\n",
       "      <td>7</td>\n",
       "      <td>499.0</td>\n",
       "    </tr>\n",
       "  </tbody>\n",
       "</table>\n",
       "</div>"
      ],
      "text/plain": [
       "  ActivitySiteID      ActivityDescription  \\\n",
       "0            HXP  20-20-20  2.45pm-3.45pm   \n",
       "1            HXP  20-20-20  2.45pm-3.45pm   \n",
       "2            HXP  20-20-20  2.45pm-3.45pm   \n",
       "3            HXP  20-20-20  2.45pm-3.45pm   \n",
       "4            HXP  20-20-20  2.45pm-3.45pm   \n",
       "\n",
       "  BookingEndDateTime (Month / Day / Year) BookingStartTime  MaxBookees  \\\n",
       "0                               08-Apr-18         14:45:00          25   \n",
       "1                               15-Apr-18         14:45:00          25   \n",
       "2                               22-Apr-18         14:45:00          25   \n",
       "3                               29-Apr-18         14:45:00          25   \n",
       "4                               06-May-18         14:45:00          25   \n",
       "\n",
       "   Number Booked  Price (INR)  \n",
       "0             12        499.0  \n",
       "1             15        499.0  \n",
       "2             14        499.0  \n",
       "3              9        499.0  \n",
       "4              7        499.0  "
      ]
     },
     "execution_count": 8,
     "metadata": {},
     "output_type": "execute_result"
    }
   ],
   "source": [
    "df1.head()"
   ]
  },
  {
   "cell_type": "code",
   "execution_count": 9,
   "id": "924623dc-2c39-4379-a425-539269b2b174",
   "metadata": {},
   "outputs": [
    {
     "data": {
      "text/html": [
       "<div>\n",
       "<style scoped>\n",
       "    .dataframe tbody tr th:only-of-type {\n",
       "        vertical-align: middle;\n",
       "    }\n",
       "\n",
       "    .dataframe tbody tr th {\n",
       "        vertical-align: top;\n",
       "    }\n",
       "\n",
       "    .dataframe thead th {\n",
       "        text-align: right;\n",
       "    }\n",
       "</style>\n",
       "<table border=\"1\" class=\"dataframe\">\n",
       "  <thead>\n",
       "    <tr style=\"text-align: right;\">\n",
       "      <th></th>\n",
       "      <th>ActivitySiteID</th>\n",
       "      <th>ActivityDescription</th>\n",
       "      <th>BookingEndDateTime (Month / Day / Year)</th>\n",
       "      <th>BookingStartTime</th>\n",
       "      <th>MaxBookees</th>\n",
       "      <th>Number Booked</th>\n",
       "      <th>Price (INR)</th>\n",
       "    </tr>\n",
       "  </thead>\n",
       "  <tbody>\n",
       "    <tr>\n",
       "      <th>0</th>\n",
       "      <td>BRP</td>\n",
       "      <td>20:20:20  9.30-10.30am</td>\n",
       "      <td>01-Jun-18</td>\n",
       "      <td>9:30:00</td>\n",
       "      <td>35</td>\n",
       "      <td>28</td>\n",
       "      <td>499</td>\n",
       "    </tr>\n",
       "    <tr>\n",
       "      <th>1</th>\n",
       "      <td>BRP</td>\n",
       "      <td>20:20:20  9.30-10.30am</td>\n",
       "      <td>08-Jun-18</td>\n",
       "      <td>9:30:00</td>\n",
       "      <td>35</td>\n",
       "      <td>35</td>\n",
       "      <td>499</td>\n",
       "    </tr>\n",
       "    <tr>\n",
       "      <th>2</th>\n",
       "      <td>BRP</td>\n",
       "      <td>20:20:20  9.30-10.30am</td>\n",
       "      <td>15-Jun-18</td>\n",
       "      <td>9:30:00</td>\n",
       "      <td>35</td>\n",
       "      <td>31</td>\n",
       "      <td>499</td>\n",
       "    </tr>\n",
       "    <tr>\n",
       "      <th>3</th>\n",
       "      <td>BRP</td>\n",
       "      <td>20:20:20  9.30-10.30am</td>\n",
       "      <td>22-Jun-18</td>\n",
       "      <td>9:30:00</td>\n",
       "      <td>35</td>\n",
       "      <td>32</td>\n",
       "      <td>499</td>\n",
       "    </tr>\n",
       "    <tr>\n",
       "      <th>4</th>\n",
       "      <td>BRP</td>\n",
       "      <td>20:20:20  9.30-10.30am</td>\n",
       "      <td>29-Jun-18</td>\n",
       "      <td>9:30:00</td>\n",
       "      <td>35</td>\n",
       "      <td>19</td>\n",
       "      <td>499</td>\n",
       "    </tr>\n",
       "  </tbody>\n",
       "</table>\n",
       "</div>"
      ],
      "text/plain": [
       "  ActivitySiteID     ActivityDescription  \\\n",
       "0            BRP  20:20:20  9.30-10.30am   \n",
       "1            BRP  20:20:20  9.30-10.30am   \n",
       "2            BRP  20:20:20  9.30-10.30am   \n",
       "3            BRP  20:20:20  9.30-10.30am   \n",
       "4            BRP  20:20:20  9.30-10.30am   \n",
       "\n",
       "  BookingEndDateTime (Month / Day / Year) BookingStartTime  MaxBookees  \\\n",
       "0                               01-Jun-18          9:30:00          35   \n",
       "1                               08-Jun-18          9:30:00          35   \n",
       "2                               15-Jun-18          9:30:00          35   \n",
       "3                               22-Jun-18          9:30:00          35   \n",
       "4                               29-Jun-18          9:30:00          35   \n",
       "\n",
       "   Number Booked  Price (INR)  \n",
       "0             28          499  \n",
       "1             35          499  \n",
       "2             31          499  \n",
       "3             32          499  \n",
       "4             19          499  "
      ]
     },
     "execution_count": 9,
     "metadata": {},
     "output_type": "execute_result"
    }
   ],
   "source": [
    "df2.head()"
   ]
  },
  {
   "cell_type": "code",
   "execution_count": 10,
   "id": "143ed6e4-f859-4823-9734-4f3dbe6e451f",
   "metadata": {},
   "outputs": [
    {
     "data": {
      "text/plain": [
       "ActivitySiteID                              0\n",
       "ActivityDescription                         0\n",
       "BookingEndDateTime (Month / Day / Year)     0\n",
       "BookingStartTime                            0\n",
       "MaxBookees                                  0\n",
       "Number Booked                               0\n",
       "Price (INR)                                18\n",
       "dtype: int64"
      ]
     },
     "execution_count": 10,
     "metadata": {},
     "output_type": "execute_result"
    }
   ],
   "source": [
    "# checking some insights of data \n",
    "df1.isnull().sum()"
   ]
  },
  {
   "cell_type": "code",
   "execution_count": 11,
   "id": "4e4be8bb-2590-454e-bdc5-03b454f8c1b3",
   "metadata": {},
   "outputs": [
    {
     "data": {
      "text/plain": [
       "ActivitySiteID                             0\n",
       "ActivityDescription                        0\n",
       "BookingEndDateTime (Month / Day / Year)    0\n",
       "BookingStartTime                           0\n",
       "MaxBookees                                 0\n",
       "Number Booked                              0\n",
       "Price (INR)                                0\n",
       "dtype: int64"
      ]
     },
     "execution_count": 11,
     "metadata": {},
     "output_type": "execute_result"
    }
   ],
   "source": [
    "df2.isnull().sum()"
   ]
  },
  {
   "cell_type": "code",
   "execution_count": 12,
   "id": "fbd729f7-de4f-4701-a6f2-2426c72e8bce",
   "metadata": {},
   "outputs": [],
   "source": [
    "#  droping the missing vlaues rowws bcz they are not in high quantity \n",
    "df1.dropna(inplace =True)"
   ]
  },
  {
   "cell_type": "code",
   "execution_count": 13,
   "id": "46ce9b9e-8fe4-4c2b-b72d-fc33a9df07ef",
   "metadata": {},
   "outputs": [],
   "source": [
    "df2.dropna(inplace = True)"
   ]
  },
  {
   "cell_type": "code",
   "execution_count": 14,
   "id": "642535b7-7979-4f7e-af47-4380a7155ed0",
   "metadata": {},
   "outputs": [
    {
     "data": {
      "text/plain": [
       "0"
      ]
     },
     "execution_count": 14,
     "metadata": {},
     "output_type": "execute_result"
    }
   ],
   "source": [
    "#Identify duplicates\n",
    "df1.duplicated().sum()"
   ]
  },
  {
   "cell_type": "code",
   "execution_count": 15,
   "id": "cfdacf41-6d1d-499a-907e-de167254188a",
   "metadata": {},
   "outputs": [
    {
     "data": {
      "text/plain": [
       "0"
      ]
     },
     "execution_count": 15,
     "metadata": {},
     "output_type": "execute_result"
    }
   ],
   "source": [
    "df2.duplicated().sum()"
   ]
  },
  {
   "cell_type": "code",
   "execution_count": 16,
   "id": "bd1d1047-2c0d-456c-b012-287de4d5fb1c",
   "metadata": {},
   "outputs": [
    {
     "data": {
      "text/plain": [
       "(2159, 7)"
      ]
     },
     "execution_count": 16,
     "metadata": {},
     "output_type": "execute_result"
    }
   ],
   "source": [
    "df1.shape"
   ]
  },
  {
   "cell_type": "code",
   "execution_count": 17,
   "id": "e003ea24-f134-48ba-afad-cd945f65d46e",
   "metadata": {},
   "outputs": [
    {
     "data": {
      "text/plain": [
       "(1112, 7)"
      ]
     },
     "execution_count": 17,
     "metadata": {},
     "output_type": "execute_result"
    }
   ],
   "source": [
    "df2.shape\n"
   ]
  },
  {
   "cell_type": "code",
   "execution_count": 18,
   "id": "e57da3cf-8862-4ff4-a2cf-db1b8ee5522a",
   "metadata": {},
   "outputs": [
    {
     "name": "stdout",
     "output_type": "stream",
     "text": [
      "<class 'pandas.core.frame.DataFrame'>\n",
      "Index: 2159 entries, 0 to 2176\n",
      "Data columns (total 7 columns):\n",
      " #   Column                                   Non-Null Count  Dtype  \n",
      "---  ------                                   --------------  -----  \n",
      " 0   ActivitySiteID                           2159 non-null   object \n",
      " 1   ActivityDescription                      2159 non-null   object \n",
      " 2   BookingEndDateTime (Month / Day / Year)  2159 non-null   object \n",
      " 3   BookingStartTime                         2159 non-null   object \n",
      " 4   MaxBookees                               2159 non-null   int64  \n",
      " 5   Number Booked                            2159 non-null   int64  \n",
      " 6   Price (INR)                              2159 non-null   float64\n",
      "dtypes: float64(1), int64(2), object(4)\n",
      "memory usage: 134.9+ KB\n"
     ]
    }
   ],
   "source": [
    "df1.info()"
   ]
  },
  {
   "cell_type": "code",
   "execution_count": 19,
   "id": "335b9f20-7050-4b10-9b4b-1feeaeac6f29",
   "metadata": {},
   "outputs": [
    {
     "name": "stdout",
     "output_type": "stream",
     "text": [
      "<class 'pandas.core.frame.DataFrame'>\n",
      "RangeIndex: 1112 entries, 0 to 1111\n",
      "Data columns (total 7 columns):\n",
      " #   Column                                   Non-Null Count  Dtype \n",
      "---  ------                                   --------------  ----- \n",
      " 0   ActivitySiteID                           1112 non-null   object\n",
      " 1   ActivityDescription                      1112 non-null   object\n",
      " 2   BookingEndDateTime (Month / Day / Year)  1112 non-null   object\n",
      " 3   BookingStartTime                         1112 non-null   object\n",
      " 4   MaxBookees                               1112 non-null   int64 \n",
      " 5   Number Booked                            1112 non-null   int64 \n",
      " 6   Price (INR)                              1112 non-null   int64 \n",
      "dtypes: int64(3), object(4)\n",
      "memory usage: 60.9+ KB\n"
     ]
    }
   ],
   "source": [
    "df2.info()\n"
   ]
  },
  {
   "cell_type": "markdown",
   "id": "a09ce408-4dc3-4e8c-98c6-4d4b0ac35ff1",
   "metadata": {},
   "source": [
    "we will change every column in integer as a data cleaning process"
   ]
  },
  {
   "cell_type": "markdown",
   "id": "f23be3cd-13f3-44c3-a023-027484c795c2",
   "metadata": {},
   "source": [
    "## Data Cleaning "
   ]
  },
  {
   "cell_type": "code",
   "execution_count": 20,
   "id": "71f5e99c-eea4-4a36-b0e1-3d70c07ca8eb",
   "metadata": {},
   "outputs": [],
   "source": [
    "#Changing data2 Price column datatype to float\n",
    "df1['Price (INR)'] = df1['Price (INR)'].astype(float)"
   ]
  },
  {
   "cell_type": "code",
   "execution_count": 21,
   "id": "50f5306c-bcff-40a5-98e0-1f14e238b3f0",
   "metadata": {},
   "outputs": [],
   "source": [
    "df2['Price (INR)'] = df2['Price (INR)'].astype(float)"
   ]
  },
  {
   "cell_type": "code",
   "execution_count": 22,
   "id": "a21ffd82-ef15-467b-a634-a17ff375346b",
   "metadata": {},
   "outputs": [
    {
     "data": {
      "text/html": [
       "<div>\n",
       "<style scoped>\n",
       "    .dataframe tbody tr th:only-of-type {\n",
       "        vertical-align: middle;\n",
       "    }\n",
       "\n",
       "    .dataframe tbody tr th {\n",
       "        vertical-align: top;\n",
       "    }\n",
       "\n",
       "    .dataframe thead th {\n",
       "        text-align: right;\n",
       "    }\n",
       "</style>\n",
       "<table border=\"1\" class=\"dataframe\">\n",
       "  <thead>\n",
       "    <tr style=\"text-align: right;\">\n",
       "      <th></th>\n",
       "      <th>ActivitySiteID</th>\n",
       "      <th>ActivityDescription</th>\n",
       "      <th>BookingEndDateTime (Month / Day / Year)</th>\n",
       "      <th>BookingStartTime</th>\n",
       "      <th>MaxBookees</th>\n",
       "      <th>Number Booked</th>\n",
       "      <th>Price (INR)</th>\n",
       "    </tr>\n",
       "  </thead>\n",
       "  <tbody>\n",
       "    <tr>\n",
       "      <th>0</th>\n",
       "      <td>HXP</td>\n",
       "      <td>20-20-20  2.45pm-3.45pm</td>\n",
       "      <td>08-Apr-18</td>\n",
       "      <td>14:45:00</td>\n",
       "      <td>25</td>\n",
       "      <td>12</td>\n",
       "      <td>499.0</td>\n",
       "    </tr>\n",
       "    <tr>\n",
       "      <th>1</th>\n",
       "      <td>HXP</td>\n",
       "      <td>20-20-20  2.45pm-3.45pm</td>\n",
       "      <td>15-Apr-18</td>\n",
       "      <td>14:45:00</td>\n",
       "      <td>25</td>\n",
       "      <td>15</td>\n",
       "      <td>499.0</td>\n",
       "    </tr>\n",
       "    <tr>\n",
       "      <th>2</th>\n",
       "      <td>HXP</td>\n",
       "      <td>20-20-20  2.45pm-3.45pm</td>\n",
       "      <td>22-Apr-18</td>\n",
       "      <td>14:45:00</td>\n",
       "      <td>25</td>\n",
       "      <td>14</td>\n",
       "      <td>499.0</td>\n",
       "    </tr>\n",
       "    <tr>\n",
       "      <th>3</th>\n",
       "      <td>HXP</td>\n",
       "      <td>20-20-20  2.45pm-3.45pm</td>\n",
       "      <td>29-Apr-18</td>\n",
       "      <td>14:45:00</td>\n",
       "      <td>25</td>\n",
       "      <td>9</td>\n",
       "      <td>499.0</td>\n",
       "    </tr>\n",
       "    <tr>\n",
       "      <th>4</th>\n",
       "      <td>HXP</td>\n",
       "      <td>20-20-20  2.45pm-3.45pm</td>\n",
       "      <td>06-May-18</td>\n",
       "      <td>14:45:00</td>\n",
       "      <td>25</td>\n",
       "      <td>7</td>\n",
       "      <td>499.0</td>\n",
       "    </tr>\n",
       "  </tbody>\n",
       "</table>\n",
       "</div>"
      ],
      "text/plain": [
       "  ActivitySiteID      ActivityDescription  \\\n",
       "0            HXP  20-20-20  2.45pm-3.45pm   \n",
       "1            HXP  20-20-20  2.45pm-3.45pm   \n",
       "2            HXP  20-20-20  2.45pm-3.45pm   \n",
       "3            HXP  20-20-20  2.45pm-3.45pm   \n",
       "4            HXP  20-20-20  2.45pm-3.45pm   \n",
       "\n",
       "  BookingEndDateTime (Month / Day / Year) BookingStartTime  MaxBookees  \\\n",
       "0                               08-Apr-18         14:45:00          25   \n",
       "1                               15-Apr-18         14:45:00          25   \n",
       "2                               22-Apr-18         14:45:00          25   \n",
       "3                               29-Apr-18         14:45:00          25   \n",
       "4                               06-May-18         14:45:00          25   \n",
       "\n",
       "   Number Booked  Price (INR)  \n",
       "0             12        499.0  \n",
       "1             15        499.0  \n",
       "2             14        499.0  \n",
       "3              9        499.0  \n",
       "4              7        499.0  "
      ]
     },
     "execution_count": 22,
     "metadata": {},
     "output_type": "execute_result"
    }
   ],
   "source": [
    "df1.head()"
   ]
  },
  {
   "cell_type": "markdown",
   "id": "735c9ea5-d58f-49bf-81f6-ba93f48b2f47",
   "metadata": {},
   "source": [
    "#  converting into standardize formate "
   ]
  },
  {
   "cell_type": "code",
   "execution_count": 23,
   "id": "5eca0aca-8087-4f2d-96fb-07e7e0f762df",
   "metadata": {},
   "outputs": [],
   "source": [
    "df1['BookingEndDateTime (Month / Day / Year)'] = pd.to_datetime(\n",
    "    df1['BookingEndDateTime (Month / Day / Year)'],\n",
    "    format='%d-%b-%y'\n",
    ")"
   ]
  },
  {
   "cell_type": "code",
   "execution_count": 24,
   "id": "9c07799b-75bf-4af3-ab99-4c5def1b2652",
   "metadata": {},
   "outputs": [],
   "source": [
    "df2['BookingEndDateTime (Month / Day / Year)'] = pd.to_datetime(\n",
    "    df2['BookingEndDateTime (Month / Day / Year)'],\n",
    "    format='%d-%b-%y'\n",
    ")"
   ]
  },
  {
   "cell_type": "code",
   "execution_count": 25,
   "id": "3604759a-d876-4d26-9616-6df6bbc39246",
   "metadata": {},
   "outputs": [
    {
     "data": {
      "text/html": [
       "<div>\n",
       "<style scoped>\n",
       "    .dataframe tbody tr th:only-of-type {\n",
       "        vertical-align: middle;\n",
       "    }\n",
       "\n",
       "    .dataframe tbody tr th {\n",
       "        vertical-align: top;\n",
       "    }\n",
       "\n",
       "    .dataframe thead th {\n",
       "        text-align: right;\n",
       "    }\n",
       "</style>\n",
       "<table border=\"1\" class=\"dataframe\">\n",
       "  <thead>\n",
       "    <tr style=\"text-align: right;\">\n",
       "      <th></th>\n",
       "      <th>ActivitySiteID</th>\n",
       "      <th>ActivityDescription</th>\n",
       "      <th>BookingEndDateTime (Month / Day / Year)</th>\n",
       "      <th>BookingStartTime</th>\n",
       "      <th>MaxBookees</th>\n",
       "      <th>Number Booked</th>\n",
       "      <th>Price (INR)</th>\n",
       "    </tr>\n",
       "  </thead>\n",
       "  <tbody>\n",
       "    <tr>\n",
       "      <th>0</th>\n",
       "      <td>HXP</td>\n",
       "      <td>20-20-20  2.45pm-3.45pm</td>\n",
       "      <td>2018-04-08</td>\n",
       "      <td>14:45:00</td>\n",
       "      <td>25</td>\n",
       "      <td>12</td>\n",
       "      <td>499.0</td>\n",
       "    </tr>\n",
       "    <tr>\n",
       "      <th>1</th>\n",
       "      <td>HXP</td>\n",
       "      <td>20-20-20  2.45pm-3.45pm</td>\n",
       "      <td>2018-04-15</td>\n",
       "      <td>14:45:00</td>\n",
       "      <td>25</td>\n",
       "      <td>15</td>\n",
       "      <td>499.0</td>\n",
       "    </tr>\n",
       "    <tr>\n",
       "      <th>2</th>\n",
       "      <td>HXP</td>\n",
       "      <td>20-20-20  2.45pm-3.45pm</td>\n",
       "      <td>2018-04-22</td>\n",
       "      <td>14:45:00</td>\n",
       "      <td>25</td>\n",
       "      <td>14</td>\n",
       "      <td>499.0</td>\n",
       "    </tr>\n",
       "    <tr>\n",
       "      <th>3</th>\n",
       "      <td>HXP</td>\n",
       "      <td>20-20-20  2.45pm-3.45pm</td>\n",
       "      <td>2018-04-29</td>\n",
       "      <td>14:45:00</td>\n",
       "      <td>25</td>\n",
       "      <td>9</td>\n",
       "      <td>499.0</td>\n",
       "    </tr>\n",
       "    <tr>\n",
       "      <th>4</th>\n",
       "      <td>HXP</td>\n",
       "      <td>20-20-20  2.45pm-3.45pm</td>\n",
       "      <td>2018-05-06</td>\n",
       "      <td>14:45:00</td>\n",
       "      <td>25</td>\n",
       "      <td>7</td>\n",
       "      <td>499.0</td>\n",
       "    </tr>\n",
       "  </tbody>\n",
       "</table>\n",
       "</div>"
      ],
      "text/plain": [
       "  ActivitySiteID      ActivityDescription  \\\n",
       "0            HXP  20-20-20  2.45pm-3.45pm   \n",
       "1            HXP  20-20-20  2.45pm-3.45pm   \n",
       "2            HXP  20-20-20  2.45pm-3.45pm   \n",
       "3            HXP  20-20-20  2.45pm-3.45pm   \n",
       "4            HXP  20-20-20  2.45pm-3.45pm   \n",
       "\n",
       "  BookingEndDateTime (Month / Day / Year) BookingStartTime  MaxBookees  \\\n",
       "0                              2018-04-08         14:45:00          25   \n",
       "1                              2018-04-15         14:45:00          25   \n",
       "2                              2018-04-22         14:45:00          25   \n",
       "3                              2018-04-29         14:45:00          25   \n",
       "4                              2018-05-06         14:45:00          25   \n",
       "\n",
       "   Number Booked  Price (INR)  \n",
       "0             12        499.0  \n",
       "1             15        499.0  \n",
       "2             14        499.0  \n",
       "3              9        499.0  \n",
       "4              7        499.0  "
      ]
     },
     "execution_count": 25,
     "metadata": {},
     "output_type": "execute_result"
    }
   ],
   "source": [
    "df1.head()"
   ]
  },
  {
   "cell_type": "code",
   "execution_count": 26,
   "id": "a6e33ec4-548e-469d-b46c-eb0033937284",
   "metadata": {},
   "outputs": [
    {
     "data": {
      "text/html": [
       "<div>\n",
       "<style scoped>\n",
       "    .dataframe tbody tr th:only-of-type {\n",
       "        vertical-align: middle;\n",
       "    }\n",
       "\n",
       "    .dataframe tbody tr th {\n",
       "        vertical-align: top;\n",
       "    }\n",
       "\n",
       "    .dataframe thead th {\n",
       "        text-align: right;\n",
       "    }\n",
       "</style>\n",
       "<table border=\"1\" class=\"dataframe\">\n",
       "  <thead>\n",
       "    <tr style=\"text-align: right;\">\n",
       "      <th></th>\n",
       "      <th>ActivitySiteID</th>\n",
       "      <th>ActivityDescription</th>\n",
       "      <th>BookingEndDateTime (Month / Day / Year)</th>\n",
       "      <th>BookingStartTime</th>\n",
       "      <th>MaxBookees</th>\n",
       "      <th>Number Booked</th>\n",
       "      <th>Price (INR)</th>\n",
       "    </tr>\n",
       "  </thead>\n",
       "  <tbody>\n",
       "    <tr>\n",
       "      <th>0</th>\n",
       "      <td>BRP</td>\n",
       "      <td>20:20:20  9.30-10.30am</td>\n",
       "      <td>2018-06-01</td>\n",
       "      <td>9:30:00</td>\n",
       "      <td>35</td>\n",
       "      <td>28</td>\n",
       "      <td>499.0</td>\n",
       "    </tr>\n",
       "    <tr>\n",
       "      <th>1</th>\n",
       "      <td>BRP</td>\n",
       "      <td>20:20:20  9.30-10.30am</td>\n",
       "      <td>2018-06-08</td>\n",
       "      <td>9:30:00</td>\n",
       "      <td>35</td>\n",
       "      <td>35</td>\n",
       "      <td>499.0</td>\n",
       "    </tr>\n",
       "    <tr>\n",
       "      <th>2</th>\n",
       "      <td>BRP</td>\n",
       "      <td>20:20:20  9.30-10.30am</td>\n",
       "      <td>2018-06-15</td>\n",
       "      <td>9:30:00</td>\n",
       "      <td>35</td>\n",
       "      <td>31</td>\n",
       "      <td>499.0</td>\n",
       "    </tr>\n",
       "    <tr>\n",
       "      <th>3</th>\n",
       "      <td>BRP</td>\n",
       "      <td>20:20:20  9.30-10.30am</td>\n",
       "      <td>2018-06-22</td>\n",
       "      <td>9:30:00</td>\n",
       "      <td>35</td>\n",
       "      <td>32</td>\n",
       "      <td>499.0</td>\n",
       "    </tr>\n",
       "    <tr>\n",
       "      <th>4</th>\n",
       "      <td>BRP</td>\n",
       "      <td>20:20:20  9.30-10.30am</td>\n",
       "      <td>2018-06-29</td>\n",
       "      <td>9:30:00</td>\n",
       "      <td>35</td>\n",
       "      <td>19</td>\n",
       "      <td>499.0</td>\n",
       "    </tr>\n",
       "  </tbody>\n",
       "</table>\n",
       "</div>"
      ],
      "text/plain": [
       "  ActivitySiteID     ActivityDescription  \\\n",
       "0            BRP  20:20:20  9.30-10.30am   \n",
       "1            BRP  20:20:20  9.30-10.30am   \n",
       "2            BRP  20:20:20  9.30-10.30am   \n",
       "3            BRP  20:20:20  9.30-10.30am   \n",
       "4            BRP  20:20:20  9.30-10.30am   \n",
       "\n",
       "  BookingEndDateTime (Month / Day / Year) BookingStartTime  MaxBookees  \\\n",
       "0                              2018-06-01          9:30:00          35   \n",
       "1                              2018-06-08          9:30:00          35   \n",
       "2                              2018-06-15          9:30:00          35   \n",
       "3                              2018-06-22          9:30:00          35   \n",
       "4                              2018-06-29          9:30:00          35   \n",
       "\n",
       "   Number Booked  Price (INR)  \n",
       "0             28        499.0  \n",
       "1             35        499.0  \n",
       "2             31        499.0  \n",
       "3             32        499.0  \n",
       "4             19        499.0  "
      ]
     },
     "execution_count": 26,
     "metadata": {},
     "output_type": "execute_result"
    }
   ],
   "source": [
    "df2.head()"
   ]
  },
  {
   "cell_type": "code",
   "execution_count": 27,
   "id": "a8fe0aaa-89b1-4087-84bd-e60da1c6e6a9",
   "metadata": {},
   "outputs": [],
   "source": [
    "df_combined = pd.concat([df1,df2])"
   ]
  },
  {
   "cell_type": "markdown",
   "id": "06d9b424-f797-4f7e-902c-543933ad2465",
   "metadata": {},
   "source": [
    "## Normalizing or Standardizing numerical feature "
   ]
  },
  {
   "cell_type": "code",
   "execution_count": 28,
   "id": "21481423-2ca0-4060-90ce-457507d5af59",
   "metadata": {},
   "outputs": [],
   "source": [
    "#Imporitng Important library\n",
    "from sklearn.preprocessing import StandardScaler\n"
   ]
  },
  {
   "cell_type": "code",
   "execution_count": 29,
   "id": "e33aa08c-c168-435c-bba1-38395b4e16c0",
   "metadata": {},
   "outputs": [],
   "source": [
    "#Identify numerical columns\n",
    "numerical_columns = df_combined.select_dtypes(include=['int64', 'float64']).columns"
   ]
  },
  {
   "cell_type": "code",
   "execution_count": 30,
   "id": "123f8947-b8bb-4c8f-bb61-66c8fa826631",
   "metadata": {},
   "outputs": [],
   "source": [
    "# Initialize the StandardScaler\n",
    "scaler = StandardScaler()\n",
    "\n",
    "# Fit and transform the numerical features\n",
    "df_combined[numerical_columns] = scaler.fit_transform(df_combined[numerical_columns])"
   ]
  },
  {
   "cell_type": "code",
   "execution_count": 31,
   "id": "b6d8867b-4efc-4036-b949-01c6b980e21d",
   "metadata": {},
   "outputs": [
    {
     "data": {
      "text/html": [
       "<div>\n",
       "<style scoped>\n",
       "    .dataframe tbody tr th:only-of-type {\n",
       "        vertical-align: middle;\n",
       "    }\n",
       "\n",
       "    .dataframe tbody tr th {\n",
       "        vertical-align: top;\n",
       "    }\n",
       "\n",
       "    .dataframe thead th {\n",
       "        text-align: right;\n",
       "    }\n",
       "</style>\n",
       "<table border=\"1\" class=\"dataframe\">\n",
       "  <thead>\n",
       "    <tr style=\"text-align: right;\">\n",
       "      <th></th>\n",
       "      <th>ActivitySiteID</th>\n",
       "      <th>ActivityDescription</th>\n",
       "      <th>BookingEndDateTime (Month / Day / Year)</th>\n",
       "      <th>BookingStartTime</th>\n",
       "      <th>MaxBookees</th>\n",
       "      <th>Number Booked</th>\n",
       "      <th>Price (INR)</th>\n",
       "    </tr>\n",
       "  </thead>\n",
       "  <tbody>\n",
       "    <tr>\n",
       "      <th>0</th>\n",
       "      <td>HXP</td>\n",
       "      <td>20-20-20  2.45pm-3.45pm</td>\n",
       "      <td>2018-04-08</td>\n",
       "      <td>14:45:00</td>\n",
       "      <td>-0.477833</td>\n",
       "      <td>-0.538786</td>\n",
       "      <td>-1.708124</td>\n",
       "    </tr>\n",
       "    <tr>\n",
       "      <th>1</th>\n",
       "      <td>HXP</td>\n",
       "      <td>20-20-20  2.45pm-3.45pm</td>\n",
       "      <td>2018-04-15</td>\n",
       "      <td>14:45:00</td>\n",
       "      <td>-0.477833</td>\n",
       "      <td>-0.223458</td>\n",
       "      <td>-1.708124</td>\n",
       "    </tr>\n",
       "    <tr>\n",
       "      <th>2</th>\n",
       "      <td>HXP</td>\n",
       "      <td>20-20-20  2.45pm-3.45pm</td>\n",
       "      <td>2018-04-22</td>\n",
       "      <td>14:45:00</td>\n",
       "      <td>-0.477833</td>\n",
       "      <td>-0.328567</td>\n",
       "      <td>-1.708124</td>\n",
       "    </tr>\n",
       "    <tr>\n",
       "      <th>3</th>\n",
       "      <td>HXP</td>\n",
       "      <td>20-20-20  2.45pm-3.45pm</td>\n",
       "      <td>2018-04-29</td>\n",
       "      <td>14:45:00</td>\n",
       "      <td>-0.477833</td>\n",
       "      <td>-0.854114</td>\n",
       "      <td>-1.708124</td>\n",
       "    </tr>\n",
       "    <tr>\n",
       "      <th>4</th>\n",
       "      <td>HXP</td>\n",
       "      <td>20-20-20  2.45pm-3.45pm</td>\n",
       "      <td>2018-05-06</td>\n",
       "      <td>14:45:00</td>\n",
       "      <td>-0.477833</td>\n",
       "      <td>-1.064333</td>\n",
       "      <td>-1.708124</td>\n",
       "    </tr>\n",
       "  </tbody>\n",
       "</table>\n",
       "</div>"
      ],
      "text/plain": [
       "  ActivitySiteID      ActivityDescription  \\\n",
       "0            HXP  20-20-20  2.45pm-3.45pm   \n",
       "1            HXP  20-20-20  2.45pm-3.45pm   \n",
       "2            HXP  20-20-20  2.45pm-3.45pm   \n",
       "3            HXP  20-20-20  2.45pm-3.45pm   \n",
       "4            HXP  20-20-20  2.45pm-3.45pm   \n",
       "\n",
       "  BookingEndDateTime (Month / Day / Year) BookingStartTime  MaxBookees  \\\n",
       "0                              2018-04-08         14:45:00   -0.477833   \n",
       "1                              2018-04-15         14:45:00   -0.477833   \n",
       "2                              2018-04-22         14:45:00   -0.477833   \n",
       "3                              2018-04-29         14:45:00   -0.477833   \n",
       "4                              2018-05-06         14:45:00   -0.477833   \n",
       "\n",
       "   Number Booked  Price (INR)  \n",
       "0      -0.538786    -1.708124  \n",
       "1      -0.223458    -1.708124  \n",
       "2      -0.328567    -1.708124  \n",
       "3      -0.854114    -1.708124  \n",
       "4      -1.064333    -1.708124  "
      ]
     },
     "execution_count": 31,
     "metadata": {},
     "output_type": "execute_result"
    }
   ],
   "source": [
    "df_combined.head()"
   ]
  },
  {
   "cell_type": "code",
   "execution_count": 32,
   "id": "dd7af349-8b96-4e34-9118-68fe9dbbdc17",
   "metadata": {},
   "outputs": [],
   "source": [
    "from sklearn.preprocessing import LabelEncoder \n",
    "\n",
    "# Initialize the LabelEncoder\n",
    "le = LabelEncoder()\n",
    "\n",
    "# Encode the 'ActivitySiteID' column\n",
    "df_combined['ActivitySiteID'] = le.fit_transform(df_combined['ActivitySiteID'])"
   ]
  },
  {
   "cell_type": "code",
   "execution_count": 33,
   "id": "094f95bd-0d31-448f-b116-8ee6de8ce055",
   "metadata": {},
   "outputs": [
    {
     "name": "stdout",
     "output_type": "stream",
     "text": [
      "\n",
      "Data type of 'ActivitySiteID' after encoding:\n"
     ]
    },
    {
     "data": {
      "text/plain": [
       "dtype('int32')"
      ]
     },
     "execution_count": 33,
     "metadata": {},
     "output_type": "execute_result"
    }
   ],
   "source": [
    "#  Display the data type of 'ActivitySiteID' to verify\n",
    "print(\"\\nData type of 'ActivitySiteID' after encoding:\")\n",
    "df_combined['ActivitySiteID'].dtype"
   ]
  },
  {
   "cell_type": "code",
   "execution_count": 34,
   "id": "6ab97f81-0185-4e99-b375-f928fdfd69fd",
   "metadata": {},
   "outputs": [],
   "source": [
    "# Convert 'BookingStartTime' to datetime\n",
    "df_combined['BookingStartTime'] = pd.to_datetime(df_combined['BookingStartTime'], format='%H:%M:%S')"
   ]
  },
  {
   "cell_type": "code",
   "execution_count": 35,
   "id": "1c6dd92e-7d2c-4416-ad9a-2e2a48297fa5",
   "metadata": {},
   "outputs": [
    {
     "name": "stdout",
     "output_type": "stream",
     "text": [
      "\n",
      "Data type of 'BookingStartTime' after conversion:\n"
     ]
    },
    {
     "data": {
      "text/plain": [
       "dtype('<M8[ns]')"
      ]
     },
     "execution_count": 35,
     "metadata": {},
     "output_type": "execute_result"
    }
   ],
   "source": [
    "print(\"\\nData type of 'BookingStartTime' after conversion:\")\n",
    "df_combined['BookingStartTime'].dtype"
   ]
  },
  {
   "cell_type": "code",
   "execution_count": 36,
   "id": "cbe897a4-0d7a-47f3-89d3-de20e808be1f",
   "metadata": {},
   "outputs": [
    {
     "data": {
      "text/plain": [
       "array(['20-20-20  2.45pm-3.45pm', '20-20-20 7.00-8.00pm',\n",
       "       '20-20-20 9.30-10.30am', '20:20:20  10-11 Am',\n",
       "       '20:20:20  10.00-11.00am', '20:20:20  11am -12noon',\n",
       "       '20:20:20  9.30-10.30am', '20:20:20 9.30-10.30am',\n",
       "       '45min Madness 9.15-10am', 'Abs Blast 7.45-8.15am', 'Aerobics',\n",
       "       'Aerobics 6.00-7.00pm', 'Aqua Babies 12 -12.30am',\n",
       "       'Aqua Babies 9.30-10.00am', 'Aqua Fit 11.15-12.00',\n",
       "       'Aqua Fit 12.15 -13.15', 'Aqua Fit 12.15-13.00',\n",
       "       'Aqua Fit 2.45 -3.45pm', 'Aqua Fit 3.00-3.50pm',\n",
       "       'Aqua Fit 4pm - 5pm', 'Aqua Tots & Babies 10.30-',\n",
       "       'Aqua Tots 10 -10.30am', 'Aqua Tots 10.00-10.30am',\n",
       "       'Aqua Tots 11.00-11.30am', 'Aqua Tots 9.00-9.30am',\n",
       "       'Aqua Zumba  12.00-1.00pm', 'Aquababies 10.00 -10.30am',\n",
       "       'Aquababies 10.30-11.00am', 'Aquababies/tots 12-12.30',\n",
       "       'Aquafit  6.00-7.00pm', 'Aquafit  7.00-8.00pm',\n",
       "       'Aquafit 11.00-12.00 Noon', 'Aquafit 11am - 12',\n",
       "       'Aquafit 3.00-3.45pm', 'Aquafit 6.00-7.00pm',\n",
       "       'Aquafit 7.00-8.00pm', 'Aquafit 7.15-8.15pm',\n",
       "       'Aquafit Beginners 10-11am', 'Aquafit Ladiesonly',\n",
       "       'Aquatots 10.30-11am', 'Aquatots 12.30- 13.00pm',\n",
       "       'Aquatots-11.00-11.45am', 'Aquatots/baby 11.30-12.00',\n",
       "       'B L T Exercise', 'Ballroom Dance 2.30-3.30',\n",
       "       'Bar Pilate 11.30-12.30pm', 'Barre Pilates   12-1pm',\n",
       "       'Barre Pilates 8.30-9.30am', 'Basic Stretch Class',\n",
       "       'Better Living', 'Better Living Team 2pm', 'Blt Weigh Manage',\n",
       "       'Bodsculp Aero 10.30-11.30', 'Body Attack 10-11am',\n",
       "       'Body Attack 10.00-11.00am', 'Body Attack 5.00-6.00pm',\n",
       "       'Body Attack 5.30 -6.30pm', 'Body Attack 8.00-9.00pm',\n",
       "       'Body Attack9.00-10.00am', 'Body Balan 11.30-12.30pm',\n",
       "       'Body Balance 11-12pm', 'Body Balance 11.30-12.30',\n",
       "       'Body Balance 12-1pm', 'Body Balance 12.30-1.30pm',\n",
       "       'Body Balance 7pm-8pm', 'Body Combat   5.00-6.00pm',\n",
       "       'Body Combat 10-11am', 'Body Combat 10.00-11.00am',\n",
       "       'Body Combat 10.30', 'Body Combat 10.30-11.30',\n",
       "       'Body Combat 11-12pm', 'Body Combat 11.30-12.30pm',\n",
       "       'Body Combat 5-6pm', 'Body Combat 5.00-6.00pm',\n",
       "       'Body Combat 5.30-6.30pm', 'Body Combat 5.45-6.45pm',\n",
       "       'Body Combat 6-7.00pm', 'Body Combat 6.00-7.00pm',\n",
       "       'Body Combat 6.45-7.45pm', 'Body Combat 7.00-8.00am',\n",
       "       'Body Combat 7.00-8.00pm', 'Body Combat 9-10am',\n",
       "       'Body Combat 9.15-10.15am', 'Body Con 09.30-10.30am',\n",
       "       'Body Con 1.45-2.30pm', 'Body Con 10.30-11.30am',\n",
       "       'Body Con 11.30am-12.30pm', 'Body Con 4.30-5.30pm',\n",
       "       'Body Cond  11-12noon', 'Body Cond 10-11am',\n",
       "       'Body Cond 10.30-11.30am', 'Body Cond 11-12',\n",
       "       'Body Cond 12.00 - 1.00pm', 'Body Cond 12.00-12.45pm',\n",
       "       'Body Cond 12.45-1.45pm', 'Body Cond 3.50pm - 4.50pm',\n",
       "       'Body Cond 5.00-6.00pm', 'Body Cond 6.30-7.30pm',\n",
       "       'Body Cond 7.30-8.30pm', 'Body Cond 8.00-9.00pm',\n",
       "       'Body Cond 9.30-10.15am', 'Body Condition 10 -11am',\n",
       "       'Body Conditioning', 'Body Conditioning 10-11am',\n",
       "       'Body Conditioning 11.30am', 'Body Conditioning 8-9pm',\n",
       "       'Body Pump  5.45-6.45pm', 'Body Pump 12.30-1.30pm',\n",
       "       'Body Pump 8.00-9.00pm', 'Body Pump 9.00-10.00am',\n",
       "       'Bodycondition 12.30-13.30', 'Chair Based Exercise',\n",
       "       'Circuits 5.30-6.30pm', 'Circuits 7 -7.45 Am',\n",
       "       'Circuits 7.15-8.15pm', 'Circuits 8.00-9.00pm Edit',\n",
       "       'Ex Better Living Team', 'Fitnes Pilate-11.00-12.00',\n",
       "       'Fitnes Pilates2.30-3.15pm', 'Fusion   6.00-7.00pm',\n",
       "       'Fusion 5pm -6pm', 'Gentle Keep Fit 11-12pm',\n",
       "       'Gentle Keep Fit 11.10-12', 'Gentle Keep Fit 2 -3.00pm',\n",
       "       'Gentle Keep Fit 2-3pm', 'Gentlekeepfit 10.30-11.30',\n",
       "       'H.I.I.T 7.00-8.00am', 'H.I.I.T 9.30-10.30am',\n",
       "       'H.I.I.T.  5.00-6.00pm', 'H.I.I.T. 6.25-7.25pm',\n",
       "       'H.I.T.T 6pm - 6.45pm', 'Hatton A B C 6-7.00pm',\n",
       "       'Hatton A B C 7-8am', 'Hatton Abc Box  10-11am',\n",
       "       'Hiit Circuit 9.30 - 10.30', 'Insanity 5:00-6:00pm',\n",
       "       'Jnr Gym Appoint 11-12', 'Jnr Gym Appoint 4-5pm',\n",
       "       'Jnr Gym Ind 10.30-11.00am', 'Jnr Gym Ind 3.30-4.00pm',\n",
       "       'Jnr Gym Ind 3.30-5.00pm', 'Jun Induction 12.30',\n",
       "       'Junior Gym 1.00-2.00pm', 'Junior Gym 11-12 Noon',\n",
       "       'Junior Gym 3.30-5.00pm', 'Junior Gym 4-5pm 8-13yrs',\n",
       "       'Junior Gym 4.00-5.00pm', 'Junior Gym10-11am 8-13yrs',\n",
       "       'Junior Swimfit 7pm-8pm', 'Leg Bum Tum 5.30-6.30pm',\n",
       "       'Legs Bums Tum 6.00-7.00pm', 'Legs Bums Tums 10-11am',\n",
       "       'Legs Bums Tums 12.30-1.30', 'Line Dance 10.45-11.45am',\n",
       "       'Line Dance 11.45-12.45pm', 'Line Dancing  11-12.30pm',\n",
       "       'Line Dancing 1.15-2.00pm', 'Line Dancing 1.30-2.30pm',\n",
       "       'Line Dancing 2pm -3pm', 'M M A Cond 8.30-9.30am',\n",
       "       'Metafit 4.30-5.00pm', 'Metafit 5.30-6.00pm',\n",
       "       'Nice & Easy 10.00-10.45am', 'Nice & Easy 11.30-12.30pm',\n",
       "       'Nice & Easy 9.15-10.15am', 'Nice N Easy 9.30-10.30am',\n",
       "       'Pilates   9.00-10.00am', 'Pilates 1.45-2.45pm',\n",
       "       'Pilates 10.00-11.00am', 'Pilates 11.00-12.00 Noon',\n",
       "       'Pilates 12.15-1.15pm', 'Pilates 13.45-14.45',\n",
       "       'Pilates 14:45- 15:45', 'Pilates 5.00-5.45pm',\n",
       "       'Pilates 6.45-7.45pm', 'Pilates 7.30-8.30pm',\n",
       "       'Pilates 8.00pm-9.00pm', 'Pilates 9-10am', 'Pilates 9.00-9.50am',\n",
       "       'Pilates 9.30-10.30am', 'Power Yoga 10.00-11.00am',\n",
       "       'Power Yoga 10.15-11.15am', 'Pump  8.15-9.15pm',\n",
       "       'Pure Stretch  11.00 12.00', 'Pure Stretch 12.00-1.00pm',\n",
       "       'Pure Stretch 8-9pm', 'Rock Roll Dancing 3 - 4pm',\n",
       "       'Sh`Bam   6.30-7.30pm', 'Sh`Bam  7.30-8.15pm',\n",
       "       'Sha`Bam  11.00-12.00pm', 'Step 6-7pm', 'Step Aerobics 10-11.00am',\n",
       "       'Step Aerobics 5.45-6.30pm', 'Step Heidi (from Nb)10.30',\n",
       "       'Step Zumba 6.00-7.00pm', 'Step- 10.00-11.00am',\n",
       "       'Strength&stretch1230-1330', 'Stretch   11.30-12.30pm',\n",
       "       'Stretch 11-12.00', 'Stretch 11-12pm', 'Stretch 6pm -7pm',\n",
       "       'Stretch And Tone 12-1pm', 'Stretch Ntone12.30-1.30pm',\n",
       "       'Stroke Skill19.15-20.15pm', 'Strokeskills 6 -7pm',\n",
       "       'Strokeskills 6pm - 7pm', 'Strokeskills 7.15-8.15pm',\n",
       "       'Strokeskills 7pm -8pm', 'Studio Cyc 1.10 - 2.00pm',\n",
       "       'Studio Cyc 10.00 -10.50am', 'Studio Cyc 10.00-10.50am',\n",
       "       'Studio Cyc 11.30 - 12.20', 'Studio Cyc 12.10-1.00pm',\n",
       "       'Studio Cyc 12.30-1.20pm', 'Studio Cyc 4.20-5.10pm',\n",
       "       'Studio Cyc 5.00-5.50pm', 'Studio Cyc 5.10-6.00pm',\n",
       "       'Studio Cyc 5.20-6.10pm', 'Studio Cyc 5.55-6.45pm',\n",
       "       'Studio Cyc 6.10-7.00pm', 'Studio Cyc 6.15-7.05pm',\n",
       "       'Studio Cyc 7.00-7.50pm', 'Studio Cyc 7.05-7.55am',\n",
       "       'Studio Cyc 7.30-8.20pm', 'Studio Cyc 8.00-8.50am',\n",
       "       'Studio Cyc 8.00-8.50pm', 'Studio Cyc 8.50-9.40am',\n",
       "       'Studio Cyc 9.05-9.55am', 'Studio Cycling 7.05 -7.55',\n",
       "       'Swim Fit-20.15-21.15pm', 'Swimfit  7am - 8am',\n",
       "       'Swimfit  8pm - 9pm', 'Swimfit 6.30 -7.30pm',\n",
       "       'Swimfit 6.30-7.30am', 'Swimfit 6.30am -7.30am', 'Swimfit 7am-8am',\n",
       "       'Swimfit 7pm - 8pm', 'Tai Chi 2.00-3.00pm', 'Tai-Chi  12 -1pm',\n",
       "       'Tap Dancing 11.15-12.15pm', 'Tap Dancing 12-1.30pm',\n",
       "       'Tap Dancing 12.00-1.30pm', 'Yoga 1.45-2.45pm',\n",
       "       'Yoga 10.30-11.30am', 'Yoga 12.45-1.45pm',\n",
       "       'Yogalates  6.30-7.30pm', 'Yogalates 10.00-11.00am',\n",
       "       'Yogalates 10.30-11.30am', 'Yogalates 10.30am',\n",
       "       'Yogalates 11.00-12.00', 'Yogalates 7.00-8.00pm',\n",
       "       'Yogalates 7.45-8.30pm', 'Zumba', 'Zumba  6.30-7.30pm',\n",
       "       'Zumba - 6-7pm', 'Zumba 10.00-10.50.Am', 'Zumba 12.45-1.45pm',\n",
       "       'Zumba 6.00 - 7.00pm', 'Zumba 6.15-7.15pm', 'Zumba 9.30-10.30am',\n",
       "       'Zumba Gold 1.45-2.45pm', 'Zumba Gold 12.45-1.45pm',\n",
       "       'Aqua Fit 14.45pm', 'Body Attack 9-10 Am', 'Body Con 9.00-10.00am',\n",
       "       'Junior Gym 11.00-12.00', 'Body Con   2.45pm-3.45pm',\n",
       "       'Body Con   11am -12noon', 'Studio Cyc 9.05 -9.55am',\n",
       "       'B L T Antenatal Mums', 'B L T Chair Based',\n",
       "       'Body Cond 5.45-6.45pm', 'Body Cond 1745-1845',\n",
       "       'Purestretch 6.45-7.45pm', 'Family Bootcamp 4-4.45pm',\n",
       "       'Wm Better Living Team', '5.30-6.30pm Body Cond',\n",
       "       '6.30-7.30pm Combat Aero', 'B L T- Weight Manage Clas',\n",
       "       'Strokeskill 19.15-20.15pm'], dtype=object)"
      ]
     },
     "execution_count": 36,
     "metadata": {},
     "output_type": "execute_result"
    }
   ],
   "source": [
    "df_combined['ActivityDescription'].unique()"
   ]
  },
  {
   "cell_type": "code",
   "execution_count": 37,
   "id": "7e6d3c48-7a6a-4196-aa6e-ee8e9dccde0f",
   "metadata": {},
   "outputs": [],
   "source": [
    "# Encode the 'ActivityDescription' column\n",
    "df_combined['ActivityDescription'] = le.fit_transform(df_combined['ActivityDescription'])"
   ]
  },
  {
   "cell_type": "code",
   "execution_count": 38,
   "id": "720c02b7-e4da-44dc-903e-8560b973d75c",
   "metadata": {},
   "outputs": [
    {
     "name": "stdout",
     "output_type": "stream",
     "text": [
      "<class 'pandas.core.frame.DataFrame'>\n",
      "Index: 3271 entries, 0 to 1111\n",
      "Data columns (total 7 columns):\n",
      " #   Column                                   Non-Null Count  Dtype         \n",
      "---  ------                                   --------------  -----         \n",
      " 0   ActivitySiteID                           3271 non-null   int32         \n",
      " 1   ActivityDescription                      3271 non-null   int32         \n",
      " 2   BookingEndDateTime (Month / Day / Year)  3271 non-null   datetime64[ns]\n",
      " 3   BookingStartTime                         3271 non-null   datetime64[ns]\n",
      " 4   MaxBookees                               3271 non-null   float64       \n",
      " 5   Number Booked                            3271 non-null   float64       \n",
      " 6   Price (INR)                              3271 non-null   float64       \n",
      "dtypes: datetime64[ns](2), float64(3), int32(2)\n",
      "memory usage: 178.9 KB\n"
     ]
    }
   ],
   "source": [
    "df_combined.info()"
   ]
  },
  {
   "cell_type": "code",
   "execution_count": 40,
   "id": "0909efed-7e6a-454f-a3b1-befc816e844c",
   "metadata": {},
   "outputs": [],
   "source": [
    "df_combined.to_excel('Cleaned_and_Preprocessed_Data_Set.xlsx')"
   ]
  },
  {
   "cell_type": "code",
   "execution_count": null,
   "id": "bdb0a099-fdc6-4006-ac43-27ec752f94cf",
   "metadata": {},
   "outputs": [],
   "source": []
  }
 ],
 "metadata": {
  "kernelspec": {
   "display_name": "Python 3 (ipykernel)",
   "language": "python",
   "name": "python3"
  },
  "language_info": {
   "codemirror_mode": {
    "name": "ipython",
    "version": 3
   },
   "file_extension": ".py",
   "mimetype": "text/x-python",
   "name": "python",
   "nbconvert_exporter": "python",
   "pygments_lexer": "ipython3",
   "version": "3.11.4"
  },
  "widgets": {
   "application/vnd.jupyter.widget-state+json": {
    "state": {},
    "version_major": 2,
    "version_minor": 0
   }
  }
 },
 "nbformat": 4,
 "nbformat_minor": 5
}
